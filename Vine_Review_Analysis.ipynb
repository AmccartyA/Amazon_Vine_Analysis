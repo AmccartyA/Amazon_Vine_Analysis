{
 "cells": [
  {
   "cell_type": "code",
   "execution_count": 86,
   "id": "2dc56213",
   "metadata": {},
   "outputs": [
    {
     "data": {
      "text/plain": [
       "review_id            object\n",
       "star_rating           int64\n",
       "helpful_votes         int64\n",
       "total_votes           int64\n",
       "vine                 object\n",
       "verified_purchase    object\n",
       "dtype: object"
      ]
     },
     "execution_count": 86,
     "metadata": {},
     "output_type": "execute_result"
    }
   ],
   "source": [
    "#Import Pandas\n",
    "import os\n",
    "import pandas as pd\n",
    "import numpy as np\n",
    "df = pd.read_csv('Vine_Table.csv')\n",
    "df.dtypes\n"
   ]
  },
  {
   "cell_type": "code",
   "execution_count": 87,
   "id": "a46b4997",
   "metadata": {},
   "outputs": [
    {
     "data": {
      "text/html": [
       "<div>\n",
       "<style scoped>\n",
       "    .dataframe tbody tr th:only-of-type {\n",
       "        vertical-align: middle;\n",
       "    }\n",
       "\n",
       "    .dataframe tbody tr th {\n",
       "        vertical-align: top;\n",
       "    }\n",
       "\n",
       "    .dataframe thead th {\n",
       "        text-align: right;\n",
       "    }\n",
       "</style>\n",
       "<table border=\"1\" class=\"dataframe\">\n",
       "  <thead>\n",
       "    <tr style=\"text-align: right;\">\n",
       "      <th></th>\n",
       "      <th>review_id</th>\n",
       "      <th>star_rating</th>\n",
       "      <th>helpful_votes</th>\n",
       "      <th>total_votes</th>\n",
       "      <th>vine</th>\n",
       "      <th>verified_purchase</th>\n",
       "    </tr>\n",
       "  </thead>\n",
       "  <tbody>\n",
       "    <tr>\n",
       "      <th>0</th>\n",
       "      <td>R100NQNLU9TQW4</td>\n",
       "      <td>4</td>\n",
       "      <td>2</td>\n",
       "      <td>2</td>\n",
       "      <td>N</td>\n",
       "      <td>N</td>\n",
       "    </tr>\n",
       "    <tr>\n",
       "      <th>1</th>\n",
       "      <td>R100TPZF3ATU48</td>\n",
       "      <td>1</td>\n",
       "      <td>2</td>\n",
       "      <td>2</td>\n",
       "      <td>N</td>\n",
       "      <td>Y</td>\n",
       "    </tr>\n",
       "    <tr>\n",
       "      <th>2</th>\n",
       "      <td>R1016EHSEPJV2O</td>\n",
       "      <td>5</td>\n",
       "      <td>1</td>\n",
       "      <td>1</td>\n",
       "      <td>N</td>\n",
       "      <td>Y</td>\n",
       "    </tr>\n",
       "    <tr>\n",
       "      <th>3</th>\n",
       "      <td>R101MMQ74KCL3X</td>\n",
       "      <td>4</td>\n",
       "      <td>1</td>\n",
       "      <td>1</td>\n",
       "      <td>N</td>\n",
       "      <td>Y</td>\n",
       "    </tr>\n",
       "    <tr>\n",
       "      <th>4</th>\n",
       "      <td>R101U2EBB0R1YC</td>\n",
       "      <td>2</td>\n",
       "      <td>0</td>\n",
       "      <td>0</td>\n",
       "      <td>N</td>\n",
       "      <td>N</td>\n",
       "    </tr>\n",
       "  </tbody>\n",
       "</table>\n",
       "</div>"
      ],
      "text/plain": [
       "        review_id  star_rating  helpful_votes  total_votes vine  \\\n",
       "0  R100NQNLU9TQW4            4              2            2    N   \n",
       "1  R100TPZF3ATU48            1              2            2    N   \n",
       "2  R1016EHSEPJV2O            5              1            1    N   \n",
       "3  R101MMQ74KCL3X            4              1            1    N   \n",
       "4  R101U2EBB0R1YC            2              0            0    N   \n",
       "\n",
       "  verified_purchase  \n",
       "0                 N  \n",
       "1                 Y  \n",
       "2                 Y  \n",
       "3                 Y  \n",
       "4                 N  "
      ]
     },
     "execution_count": 87,
     "metadata": {},
     "output_type": "execute_result"
    }
   ],
   "source": [
    "df.head()"
   ]
  },
  {
   "cell_type": "code",
   "execution_count": 88,
   "id": "14fb69e8",
   "metadata": {},
   "outputs": [
    {
     "data": {
      "text/plain": [
       "review_id            1043886\n",
       "star_rating          1043886\n",
       "helpful_votes        1043886\n",
       "total_votes          1043886\n",
       "vine                 1043886\n",
       "verified_purchase    1043886\n",
       "dtype: int64"
      ]
     },
     "execution_count": 88,
     "metadata": {},
     "output_type": "execute_result"
    }
   ],
   "source": [
    "df.count()"
   ]
  },
  {
   "cell_type": "code",
   "execution_count": 89,
   "id": "4c215b06",
   "metadata": {},
   "outputs": [
    {
     "data": {
      "text/plain": [
       "review_id            1043886\n",
       "star_rating          1043886\n",
       "helpful_votes        1043886\n",
       "total_votes          1043886\n",
       "vine                 1043886\n",
       "verified_purchase    1043886\n",
       "dtype: int64"
      ]
     },
     "execution_count": 89,
     "metadata": {},
     "output_type": "execute_result"
    }
   ],
   "source": [
    "df.drop_duplicates(subset=['review_id'])\n",
    "df.count()"
   ]
  },
  {
   "cell_type": "code",
   "execution_count": 90,
   "id": "7da21ad4",
   "metadata": {},
   "outputs": [
    {
     "data": {
      "text/html": [
       "<div>\n",
       "<style scoped>\n",
       "    .dataframe tbody tr th:only-of-type {\n",
       "        vertical-align: middle;\n",
       "    }\n",
       "\n",
       "    .dataframe tbody tr th {\n",
       "        vertical-align: top;\n",
       "    }\n",
       "\n",
       "    .dataframe thead th {\n",
       "        text-align: right;\n",
       "    }\n",
       "</style>\n",
       "<table border=\"1\" class=\"dataframe\">\n",
       "  <thead>\n",
       "    <tr style=\"text-align: right;\">\n",
       "      <th></th>\n",
       "      <th>review_id</th>\n",
       "      <th>star_rating</th>\n",
       "      <th>helpful_votes</th>\n",
       "      <th>total_votes</th>\n",
       "      <th>vine</th>\n",
       "      <th>verified_purchase</th>\n",
       "    </tr>\n",
       "  </thead>\n",
       "  <tbody>\n",
       "    <tr>\n",
       "      <th>30</th>\n",
       "      <td>R10BI5JXAMQGOJ</td>\n",
       "      <td>5</td>\n",
       "      <td>21</td>\n",
       "      <td>22</td>\n",
       "      <td>N</td>\n",
       "      <td>N</td>\n",
       "    </tr>\n",
       "    <tr>\n",
       "      <th>56</th>\n",
       "      <td>R10SVK8D3H27ZF</td>\n",
       "      <td>1</td>\n",
       "      <td>212</td>\n",
       "      <td>286</td>\n",
       "      <td>N</td>\n",
       "      <td>N</td>\n",
       "    </tr>\n",
       "    <tr>\n",
       "      <th>65</th>\n",
       "      <td>R10XDST2ZRGM74</td>\n",
       "      <td>3</td>\n",
       "      <td>28</td>\n",
       "      <td>38</td>\n",
       "      <td>N</td>\n",
       "      <td>N</td>\n",
       "    </tr>\n",
       "    <tr>\n",
       "      <th>184</th>\n",
       "      <td>R11E298152S27P</td>\n",
       "      <td>1</td>\n",
       "      <td>4</td>\n",
       "      <td>54</td>\n",
       "      <td>N</td>\n",
       "      <td>N</td>\n",
       "    </tr>\n",
       "    <tr>\n",
       "      <th>211</th>\n",
       "      <td>R11VOAZ9XPXHOP</td>\n",
       "      <td>2</td>\n",
       "      <td>39</td>\n",
       "      <td>56</td>\n",
       "      <td>N</td>\n",
       "      <td>Y</td>\n",
       "    </tr>\n",
       "  </tbody>\n",
       "</table>\n",
       "</div>"
      ],
      "text/plain": [
       "          review_id  star_rating  helpful_votes  total_votes vine  \\\n",
       "30   R10BI5JXAMQGOJ            5             21           22    N   \n",
       "56   R10SVK8D3H27ZF            1            212          286    N   \n",
       "65   R10XDST2ZRGM74            3             28           38    N   \n",
       "184  R11E298152S27P            1              4           54    N   \n",
       "211  R11VOAZ9XPXHOP            2             39           56    N   \n",
       "\n",
       "    verified_purchase  \n",
       "30                  N  \n",
       "56                  N  \n",
       "65                  N  \n",
       "184                 N  \n",
       "211                 Y  "
      ]
     },
     "execution_count": 90,
     "metadata": {},
     "output_type": "execute_result"
    }
   ],
   "source": [
    "#Filter for total_votes being greater than or equal to 20\n",
    "vote_df = df[[\"review_id\",\"star_rating\",\"helpful_votes\",\"total_votes\",\"vine\",\"verified_purchase\"]]\n",
    "vote_count = vote_df[vote_df[\"total_votes\"] >= 20]\n",
    "vote_count.head()"
   ]
  },
  {
   "cell_type": "code",
   "execution_count": 91,
   "id": "9d7913f6",
   "metadata": {},
   "outputs": [
    {
     "data": {
      "text/html": [
       "<div>\n",
       "<style scoped>\n",
       "    .dataframe tbody tr th:only-of-type {\n",
       "        vertical-align: middle;\n",
       "    }\n",
       "\n",
       "    .dataframe tbody tr th {\n",
       "        vertical-align: top;\n",
       "    }\n",
       "\n",
       "    .dataframe thead th {\n",
       "        text-align: right;\n",
       "    }\n",
       "</style>\n",
       "<table border=\"1\" class=\"dataframe\">\n",
       "  <thead>\n",
       "    <tr style=\"text-align: right;\">\n",
       "      <th></th>\n",
       "      <th>review_id</th>\n",
       "      <th>star_rating</th>\n",
       "      <th>helpful_votes</th>\n",
       "      <th>total_votes</th>\n",
       "      <th>vine</th>\n",
       "      <th>verified_purchase</th>\n",
       "    </tr>\n",
       "  </thead>\n",
       "  <tbody>\n",
       "    <tr>\n",
       "      <th>30</th>\n",
       "      <td>R10BI5JXAMQGOJ</td>\n",
       "      <td>5</td>\n",
       "      <td>21</td>\n",
       "      <td>22</td>\n",
       "      <td>N</td>\n",
       "      <td>N</td>\n",
       "    </tr>\n",
       "    <tr>\n",
       "      <th>56</th>\n",
       "      <td>R10SVK8D3H27ZF</td>\n",
       "      <td>1</td>\n",
       "      <td>212</td>\n",
       "      <td>286</td>\n",
       "      <td>N</td>\n",
       "      <td>N</td>\n",
       "    </tr>\n",
       "    <tr>\n",
       "      <th>65</th>\n",
       "      <td>R10XDST2ZRGM74</td>\n",
       "      <td>3</td>\n",
       "      <td>28</td>\n",
       "      <td>38</td>\n",
       "      <td>N</td>\n",
       "      <td>N</td>\n",
       "    </tr>\n",
       "    <tr>\n",
       "      <th>211</th>\n",
       "      <td>R11VOAZ9XPXHOP</td>\n",
       "      <td>2</td>\n",
       "      <td>39</td>\n",
       "      <td>56</td>\n",
       "      <td>N</td>\n",
       "      <td>Y</td>\n",
       "    </tr>\n",
       "    <tr>\n",
       "      <th>229</th>\n",
       "      <td>R128ZAZI2E47C3</td>\n",
       "      <td>1</td>\n",
       "      <td>21</td>\n",
       "      <td>27</td>\n",
       "      <td>N</td>\n",
       "      <td>N</td>\n",
       "    </tr>\n",
       "  </tbody>\n",
       "</table>\n",
       "</div>"
      ],
      "text/plain": [
       "          review_id  star_rating  helpful_votes  total_votes vine  \\\n",
       "30   R10BI5JXAMQGOJ            5             21           22    N   \n",
       "56   R10SVK8D3H27ZF            1            212          286    N   \n",
       "65   R10XDST2ZRGM74            3             28           38    N   \n",
       "211  R11VOAZ9XPXHOP            2             39           56    N   \n",
       "229  R128ZAZI2E47C3            1             21           27    N   \n",
       "\n",
       "    verified_purchase  \n",
       "30                  N  \n",
       "56                  N  \n",
       "65                  N  \n",
       "211                 Y  \n",
       "229                 N  "
      ]
     },
     "execution_count": 91,
     "metadata": {},
     "output_type": "execute_result"
    }
   ],
   "source": [
    "#Create a new DataFrame to retrieve all the rows where the number of helpful_votes divided by total_votes is equal to or greater than 50%.\n",
    "vote_table = vote_count[vote_count[\"helpful_votes\"]/vote_count[\"total_votes\"]>=0.5]\n",
    "vote_table.head()"
   ]
  },
  {
   "cell_type": "code",
   "execution_count": 92,
   "id": "3009dd4a",
   "metadata": {},
   "outputs": [
    {
     "data": {
      "text/html": [
       "<div>\n",
       "<style scoped>\n",
       "    .dataframe tbody tr th:only-of-type {\n",
       "        vertical-align: middle;\n",
       "    }\n",
       "\n",
       "    .dataframe tbody tr th {\n",
       "        vertical-align: top;\n",
       "    }\n",
       "\n",
       "    .dataframe thead th {\n",
       "        text-align: right;\n",
       "    }\n",
       "</style>\n",
       "<table border=\"1\" class=\"dataframe\">\n",
       "  <thead>\n",
       "    <tr style=\"text-align: right;\">\n",
       "      <th></th>\n",
       "      <th>review_id</th>\n",
       "      <th>star_rating</th>\n",
       "      <th>helpful_votes</th>\n",
       "      <th>total_votes</th>\n",
       "      <th>vine</th>\n",
       "      <th>verified_purchase</th>\n",
       "    </tr>\n",
       "  </thead>\n",
       "  <tbody>\n",
       "    <tr>\n",
       "      <th>102</th>\n",
       "      <td>R108YXX9X92XRQ</td>\n",
       "      <td>5</td>\n",
       "      <td>1</td>\n",
       "      <td>1</td>\n",
       "      <td>Y</td>\n",
       "      <td>N</td>\n",
       "    </tr>\n",
       "    <tr>\n",
       "      <th>282</th>\n",
       "      <td>R119FTCXGJP0L7</td>\n",
       "      <td>5</td>\n",
       "      <td>3</td>\n",
       "      <td>4</td>\n",
       "      <td>Y</td>\n",
       "      <td>N</td>\n",
       "    </tr>\n",
       "    <tr>\n",
       "      <th>1179</th>\n",
       "      <td>R18EJDX9IX3JF3</td>\n",
       "      <td>3</td>\n",
       "      <td>0</td>\n",
       "      <td>0</td>\n",
       "      <td>Y</td>\n",
       "      <td>N</td>\n",
       "    </tr>\n",
       "    <tr>\n",
       "      <th>1262</th>\n",
       "      <td>R19P2V47M03P5K</td>\n",
       "      <td>4</td>\n",
       "      <td>0</td>\n",
       "      <td>1</td>\n",
       "      <td>Y</td>\n",
       "      <td>N</td>\n",
       "    </tr>\n",
       "    <tr>\n",
       "      <th>1965</th>\n",
       "      <td>R1EMOUJ76U86ZC</td>\n",
       "      <td>5</td>\n",
       "      <td>2</td>\n",
       "      <td>3</td>\n",
       "      <td>Y</td>\n",
       "      <td>N</td>\n",
       "    </tr>\n",
       "  </tbody>\n",
       "</table>\n",
       "</div>"
      ],
      "text/plain": [
       "           review_id  star_rating  helpful_votes  total_votes vine  \\\n",
       "102   R108YXX9X92XRQ            5              1            1    Y   \n",
       "282   R119FTCXGJP0L7            5              3            4    Y   \n",
       "1179  R18EJDX9IX3JF3            3              0            0    Y   \n",
       "1262  R19P2V47M03P5K            4              0            1    Y   \n",
       "1965  R1EMOUJ76U86ZC            5              2            3    Y   \n",
       "\n",
       "     verified_purchase  \n",
       "102                  N  \n",
       "282                  N  \n",
       "1179                 N  \n",
       "1262                 N  \n",
       "1965                 N  "
      ]
     },
     "execution_count": 92,
     "metadata": {},
     "output_type": "execute_result"
    }
   ],
   "source": [
    "#Create a Dataframe to where there is a Vine review\n",
    "vine_df = vote_df[vote_df[\"vine\"] == \"Y\"]\n",
    "vine_df.head()"
   ]
  },
  {
   "cell_type": "code",
   "execution_count": 93,
   "id": "54d35775",
   "metadata": {},
   "outputs": [
    {
     "data": {
      "text/html": [
       "<div>\n",
       "<style scoped>\n",
       "    .dataframe tbody tr th:only-of-type {\n",
       "        vertical-align: middle;\n",
       "    }\n",
       "\n",
       "    .dataframe tbody tr th {\n",
       "        vertical-align: top;\n",
       "    }\n",
       "\n",
       "    .dataframe thead th {\n",
       "        text-align: right;\n",
       "    }\n",
       "</style>\n",
       "<table border=\"1\" class=\"dataframe\">\n",
       "  <thead>\n",
       "    <tr style=\"text-align: right;\">\n",
       "      <th></th>\n",
       "      <th>review_id</th>\n",
       "      <th>star_rating</th>\n",
       "      <th>helpful_votes</th>\n",
       "      <th>total_votes</th>\n",
       "      <th>vine</th>\n",
       "      <th>verified_purchase</th>\n",
       "    </tr>\n",
       "  </thead>\n",
       "  <tbody>\n",
       "    <tr>\n",
       "      <th>0</th>\n",
       "      <td>R100NQNLU9TQW4</td>\n",
       "      <td>4</td>\n",
       "      <td>2</td>\n",
       "      <td>2</td>\n",
       "      <td>N</td>\n",
       "      <td>N</td>\n",
       "    </tr>\n",
       "    <tr>\n",
       "      <th>1</th>\n",
       "      <td>R100TPZF3ATU48</td>\n",
       "      <td>1</td>\n",
       "      <td>2</td>\n",
       "      <td>2</td>\n",
       "      <td>N</td>\n",
       "      <td>Y</td>\n",
       "    </tr>\n",
       "    <tr>\n",
       "      <th>2</th>\n",
       "      <td>R1016EHSEPJV2O</td>\n",
       "      <td>5</td>\n",
       "      <td>1</td>\n",
       "      <td>1</td>\n",
       "      <td>N</td>\n",
       "      <td>Y</td>\n",
       "    </tr>\n",
       "    <tr>\n",
       "      <th>3</th>\n",
       "      <td>R101MMQ74KCL3X</td>\n",
       "      <td>4</td>\n",
       "      <td>1</td>\n",
       "      <td>1</td>\n",
       "      <td>N</td>\n",
       "      <td>Y</td>\n",
       "    </tr>\n",
       "    <tr>\n",
       "      <th>4</th>\n",
       "      <td>R101U2EBB0R1YC</td>\n",
       "      <td>2</td>\n",
       "      <td>0</td>\n",
       "      <td>0</td>\n",
       "      <td>N</td>\n",
       "      <td>N</td>\n",
       "    </tr>\n",
       "  </tbody>\n",
       "</table>\n",
       "</div>"
      ],
      "text/plain": [
       "        review_id  star_rating  helpful_votes  total_votes vine  \\\n",
       "0  R100NQNLU9TQW4            4              2            2    N   \n",
       "1  R100TPZF3ATU48            1              2            2    N   \n",
       "2  R1016EHSEPJV2O            5              1            1    N   \n",
       "3  R101MMQ74KCL3X            4              1            1    N   \n",
       "4  R101U2EBB0R1YC            2              0            0    N   \n",
       "\n",
       "  verified_purchase  \n",
       "0                 N  \n",
       "1                 Y  \n",
       "2                 Y  \n",
       "3                 Y  \n",
       "4                 N  "
      ]
     },
     "execution_count": 93,
     "metadata": {},
     "output_type": "execute_result"
    }
   ],
   "source": [
    "#Create a Dataframe to where there is not a Vine review\n",
    "vine_df = vote_df[vote_df[\"vine\"] == \"N\"]\n",
    "vine_df.head()"
   ]
  },
  {
   "cell_type": "code",
   "execution_count": 94,
   "id": "aa5056ad",
   "metadata": {},
   "outputs": [
    {
     "data": {
      "text/plain": [
       "1043886"
      ]
     },
     "execution_count": 94,
     "metadata": {},
     "output_type": "execute_result"
    }
   ],
   "source": [
    "#Create a Dataframe for the total number of reviews,\n",
    "total_reviews = len(vote_df)\n",
    "total_reviews"
   ]
  },
  {
   "cell_type": "code",
   "execution_count": 95,
   "id": "d98c3216",
   "metadata": {},
   "outputs": [
    {
     "data": {
      "text/plain": [
       "review_id            599908\n",
       "star_rating          599908\n",
       "helpful_votes        599908\n",
       "total_votes          599908\n",
       "vine                 599908\n",
       "verified_purchase    599908\n",
       "dtype: int64"
      ]
     },
     "execution_count": 95,
     "metadata": {},
     "output_type": "execute_result"
    }
   ],
   "source": [
    "#The number of 5-star reviews\n",
    "five_star = vote_df[vote_df[\"star_rating\"]== 5]\n",
    "five_star.count()\n"
   ]
  },
  {
   "cell_type": "code",
   "execution_count": 132,
   "id": "41978b2e",
   "metadata": {},
   "outputs": [
    {
     "data": {
      "text/plain": [
       "599908"
      ]
     },
     "execution_count": 132,
     "metadata": {},
     "output_type": "execute_result"
    }
   ],
   "source": [
    "new_five_star = len(five_star)\n",
    "new_five_star"
   ]
  },
  {
   "cell_type": "code",
   "execution_count": 133,
   "id": "4c5c610a",
   "metadata": {},
   "outputs": [
    {
     "data": {
      "text/plain": [
       "2     55458\n",
       "3     89911\n",
       "1    112343\n",
       "4    186266\n",
       "5    599908\n",
       "Name: star_rating, dtype: int64"
      ]
     },
     "execution_count": 133,
     "metadata": {},
     "output_type": "execute_result"
    }
   ],
   "source": [
    "vote_df['star_rating'].value_counts(ascending=True)"
   ]
  },
  {
   "cell_type": "code",
   "execution_count": 141,
   "id": "dfc800c4",
   "metadata": {},
   "outputs": [],
   "source": [
    "#The percentage 5-star reviews are calculated for all Vine and non-Vine reviews\n",
    "vine_5 = five_star[five_star[\"vine\" ] == \"Y\"]\n",
    "non_vine_5 = five_star[five_star[\"vine\"]== \"N\"]"
   ]
  },
  {
   "cell_type": "code",
   "execution_count": 142,
   "id": "02e170a1",
   "metadata": {},
   "outputs": [],
   "source": [
    "vine_5 = len(vine_5) / new_five_star * 100\n",
    "non_vine_5 = len(non_vine_5) / new_five_star * 100"
   ]
  },
  {
   "cell_type": "code",
   "execution_count": 149,
   "id": "87f19a18",
   "metadata": {},
   "outputs": [],
   "source": [
    "new_df = pd.DataFrame({\n",
    "    \"Total number of Reviews\" : [total_reviews],\n",
    "    \"Number of 5-Star Reivews\": [new_five_star],\n",
    "    \"Percentage of Vine Reivews with 5 star\" :[vine_5],\n",
    "    \"Percentage of Non-Vine Reviews with 5 stars\":[non_vine_5]\n",
    "})"
   ]
  },
  {
   "cell_type": "code",
   "execution_count": 150,
   "id": "eb3292f0",
   "metadata": {},
   "outputs": [
    {
     "data": {
      "text/html": [
       "<div>\n",
       "<style scoped>\n",
       "    .dataframe tbody tr th:only-of-type {\n",
       "        vertical-align: middle;\n",
       "    }\n",
       "\n",
       "    .dataframe tbody tr th {\n",
       "        vertical-align: top;\n",
       "    }\n",
       "\n",
       "    .dataframe thead th {\n",
       "        text-align: right;\n",
       "    }\n",
       "</style>\n",
       "<table border=\"1\" class=\"dataframe\">\n",
       "  <thead>\n",
       "    <tr style=\"text-align: right;\">\n",
       "      <th></th>\n",
       "      <th>Total number of Reviews</th>\n",
       "      <th>Number of 5-Star Reivews</th>\n",
       "      <th>Percentage of Vine Reivews with 5 star</th>\n",
       "      <th>Percentage of Non-Vine Reviews with 5 stars</th>\n",
       "    </tr>\n",
       "  </thead>\n",
       "  <tbody>\n",
       "    <tr>\n",
       "      <th>0</th>\n",
       "      <td>1043886</td>\n",
       "      <td>599908</td>\n",
       "      <td>0.152523</td>\n",
       "      <td>99.847477</td>\n",
       "    </tr>\n",
       "  </tbody>\n",
       "</table>\n",
       "</div>"
      ],
      "text/plain": [
       "   Total number of Reviews  Number of 5-Star Reivews  \\\n",
       "0                  1043886                    599908   \n",
       "\n",
       "   Percentage of Vine Reivews with 5 star  \\\n",
       "0                                0.152523   \n",
       "\n",
       "   Percentage of Non-Vine Reviews with 5 stars  \n",
       "0                                    99.847477  "
      ]
     },
     "execution_count": 150,
     "metadata": {},
     "output_type": "execute_result"
    }
   ],
   "source": [
    "new_df.head()"
   ]
  },
  {
   "cell_type": "code",
   "execution_count": null,
   "id": "464d113b",
   "metadata": {},
   "outputs": [],
   "source": []
  }
 ],
 "metadata": {
  "kernelspec": {
   "display_name": "Python 3 (ipykernel)",
   "language": "python",
   "name": "python3"
  },
  "language_info": {
   "codemirror_mode": {
    "name": "ipython",
    "version": 3
   },
   "file_extension": ".py",
   "mimetype": "text/x-python",
   "name": "python",
   "nbconvert_exporter": "python",
   "pygments_lexer": "ipython3",
   "version": "3.9.12"
  }
 },
 "nbformat": 4,
 "nbformat_minor": 5
}
